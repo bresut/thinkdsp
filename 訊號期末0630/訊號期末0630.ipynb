{
 "cells": [
  {
   "cell_type": "code",
   "execution_count": 1,
   "metadata": {},
   "outputs": [
    {
     "data": {
      "text/plain": [
       "3.141592653589793"
      ]
     },
     "execution_count": 1,
     "metadata": {},
     "output_type": "execute_result"
    }
   ],
   "source": [
    "import numpy as np\n",
    "import scipy.fftpack as fp\n",
    "\n",
    "import scipy.linalg  as lg\n",
    "\n",
    "np.set_printoptions(precision=3, suppress=True)\n",
    "π= np.pi\n",
    "π"
   ]
  },
  {
   "cell_type": "code",
   "execution_count": 3,
   "metadata": {},
   "outputs": [
    {
     "data": {
      "text/plain": [
       "array([1.-0.j, 1.+0.j, 1.-0.j, 1.+0.j, 1.-0.j, 1.-0.j, 1.+0.j, 1.-0.j])"
      ]
     },
     "execution_count": 3,
     "metadata": {},
     "output_type": "execute_result"
    }
   ],
   "source": [
    "x= np.array([1,0,0,0,0,0,0,0])\n",
    "X= fp.fft(x)\n",
    "X"
   ]
  },
  {
   "cell_type": "code",
   "execution_count": 13,
   "metadata": {},
   "outputs": [
    {
     "data": {
      "text/plain": [
       "array([8.-0.j, 0.+0.j, 0.-0.j, 0.+0.j, 0.-0.j, 0.-0.j, 0.+0.j, 0.-0.j])"
      ]
     },
     "execution_count": 13,
     "metadata": {},
     "output_type": "execute_result"
    }
   ],
   "source": [
    "x= np.array([1,1,1,1,1,1,1,1])\n",
    "X= fp.fft(x)\n",
    "X"
   ]
  },
  {
   "cell_type": "code",
   "execution_count": 14,
   "metadata": {},
   "outputs": [
    {
     "data": {
      "text/plain": [
       "array([0.-0.j, 0.+0.j, 0.-0.j, 0.+0.j, 8.-0.j, 0.-0.j, 0.+0.j, 0.-0.j])"
      ]
     },
     "execution_count": 14,
     "metadata": {},
     "output_type": "execute_result"
    }
   ],
   "source": [
    "x= np.array([1,-1,1,-1,1,-1,1,-1])\n",
    "X= fp.fft(x)\n",
    "X"
   ]
  },
  {
   "cell_type": "code",
   "execution_count": 22,
   "metadata": {},
   "outputs": [
    {
     "data": {
      "text/plain": [
       "array([9.-0.j, 1.+0.j, 1.-0.j, 1.+0.j, 9.-0.j, 1.-0.j, 1.+0.j, 1.-0.j])"
      ]
     },
     "execution_count": 22,
     "metadata": {},
     "output_type": "execute_result"
    }
   ],
   "source": [
    "x= np.array([3,0,2,0,2,0,2,0])\n",
    "X= fp.fft(x)\n",
    "X"
   ]
  },
  {
   "cell_type": "code",
   "execution_count": 25,
   "metadata": {},
   "outputs": [
    {
     "data": {
      "text/plain": [
       "array([ 0.5  -0.j   ,  0.302-0.125j,  0.   +0.j   , -0.052+0.125j,\n",
       "        0.   -0.j   , -0.052-0.125j,  0.   -0.j   ,  0.302+0.125j])"
      ]
     },
     "execution_count": 25,
     "metadata": {},
     "output_type": "execute_result"
    }
   ],
   "source": [
    "x= np.array([1,1,0,0,0,0,1,1])\n",
    "X= fp.ifft(x)\n",
    "X"
   ]
  },
  {
   "cell_type": "code",
   "execution_count": 30,
   "metadata": {},
   "outputs": [
    {
     "data": {
      "text/plain": [
       "array([ 0.375-0.j,  0.302-0.j,  0.125+0.j, -0.052-0.j, -0.125-0.j,\n",
       "       -0.052+0.j,  0.125-0.j,  0.302+0.j])"
      ]
     },
     "execution_count": 30,
     "metadata": {},
     "output_type": "execute_result"
    }
   ],
   "source": [
    "y= np.array([1,1,0,0,0,0,0,1])\n",
    "Y= fp.ifft(y)\n",
    "Y"
   ]
  },
  {
   "cell_type": "code",
   "execution_count": 27,
   "metadata": {},
   "outputs": [
    {
     "data": {
      "text/plain": [
       "array([2.-0.j, 1.-1.j, 0.-0.j, 1.+1.j])"
      ]
     },
     "execution_count": 27,
     "metadata": {},
     "output_type": "execute_result"
    }
   ],
   "source": [
    "x= np.array([1,1,0,0])\n",
    "X= fp.fft(x)\n",
    "X"
   ]
  },
  {
   "cell_type": "code",
   "execution_count": 33,
   "metadata": {},
   "outputs": [
    {
     "data": {
      "text/plain": [
       "array([2.   -0.j   , 1.707-0.707j, 1.   -1.j   , 0.293-0.707j,\n",
       "       0.   -0.j   , 0.293+0.707j, 1.   +1.j   , 1.707+0.707j])"
      ]
     },
     "execution_count": 33,
     "metadata": {},
     "output_type": "execute_result"
    }
   ],
   "source": [
    "y= np.array([1,1,0,0,0,0,0,0])\n",
    "Y= fp.fft(y)\n",
    "Y"
   ]
  },
  {
   "cell_type": "code",
   "execution_count": 35,
   "metadata": {},
   "outputs": [
    {
     "data": {
      "text/plain": [
       "array([4.-0.j, 0.+0.j, 0.-0.j, 0.-0.j])"
      ]
     },
     "execution_count": 35,
     "metadata": {},
     "output_type": "execute_result"
    }
   ],
   "source": [
    "x= np.array([1,1,1,1])\n",
    "X= fp.fft(x)\n",
    "X"
   ]
  },
  {
   "cell_type": "code",
   "execution_count": null,
   "metadata": {},
   "outputs": [],
   "source": []
  }
 ],
 "metadata": {
  "kernelspec": {
   "display_name": "Python 3",
   "language": "python",
   "name": "python3"
  },
  "language_info": {
   "codemirror_mode": {
    "name": "ipython",
    "version": 3
   },
   "file_extension": ".py",
   "mimetype": "text/x-python",
   "name": "python",
   "nbconvert_exporter": "python",
   "pygments_lexer": "ipython3",
   "version": "3.7.6"
  }
 },
 "nbformat": 4,
 "nbformat_minor": 4
}
